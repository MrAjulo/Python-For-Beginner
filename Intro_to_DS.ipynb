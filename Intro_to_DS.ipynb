{
  "nbformat": 4,
  "nbformat_minor": 0,
  "metadata": {
    "colab": {
      "name": "Intro to DS.ipynb",
      "provenance": [],
      "collapsed_sections": [],
      "authorship_tag": "ABX9TyPjoUHKpxBxTEwS+70Brxla",
      "include_colab_link": true
    },
    "kernelspec": {
      "name": "python3",
      "display_name": "Python 3"
    }
  },
  "cells": [
    {
      "cell_type": "markdown",
      "metadata": {
        "id": "view-in-github",
        "colab_type": "text"
      },
      "source": [
        "<a href=\"https://colab.research.google.com/github/MrAjulo/Python-For-Beginner/blob/master/Intro_to_DS.ipynb\" target=\"_parent\"><img src=\"https://colab.research.google.com/assets/colab-badge.svg\" alt=\"Open In Colab\"/></a>"
      ]
    },
    {
      "cell_type": "markdown",
      "metadata": {
        "id": "AsLiJ_e6vT8i",
        "colab_type": "text"
      },
      "source": [
        "##Week 1 \n",
        "\n",
        "slides ; \n",
        "https://drive.google.com/file/d/1pK5yIxH7Vb9VRk6Ttnaw2HpC48vqqUvY/view?usp=sharing"
      ]
    },
    {
      "cell_type": "markdown",
      "metadata": {
        "id": "jQe7Vx4-vS2L",
        "colab_type": "text"
      },
      "source": [
        "Videos:\n",
        "A day in the Life of a Data Scientist\n",
        "https://www.youtube.com/watch?v=g3xwMSaA0MI&list=PL-XeOa5hMEYz5U0wAu1EvOuG-ndOEoaQr&index=4"
      ]
    },
    {
      "cell_type": "markdown",
      "metadata": {
        "id": "ZzgLKVV_wq19",
        "colab_type": "text"
      },
      "source": [
        "There are many path to Data Science:\n",
        "https://www.youtube.com/watch?v=idDaLot6E58&list=PL-XeOa5hMEYz5U0wAu1EvOuG-ndOEoaQr&index=11"
      ]
    },
    {
      "cell_type": "markdown",
      "metadata": {
        "id": "RNKFTj8lwzxC",
        "colab_type": "text"
      },
      "source": [
        "Advice for a new Data Scientist;\n",
        "https://www.youtube.com/watch?v=sPRrLxd_hAY&list=PL-XeOa5hMEYz5U0wAu1EvOuG-ndOEoaQr&index=31"
      ]
    },
    {
      "cell_type": "markdown",
      "metadata": {
        "id": "m-4NBQKLxyb5",
        "colab_type": "text"
      },
      "source": [
        "Application of Data Science;\n",
        "https://www.youtube.com/watch?v=LITpRGbrDkM&list=PL-XeOa5hMEYz5U0wAu1EvOuG-ndOEoaQr&index=24"
      ]
    }
  ]
}
